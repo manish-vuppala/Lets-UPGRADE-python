{
  "nbformat": 4,
  "nbformat_minor": 0,
  "metadata": {
    "colab": {
      "name": "Untitled1.ipynb",
      "provenance": [],
      "authorship_tag": "ABX9TyN2Km9vAgr3Dk9Rl/QSpGhE",
      "include_colab_link": true
    },
    "kernelspec": {
      "name": "python3",
      "display_name": "Python 3"
    }
  },
  "cells": [
    {
      "cell_type": "markdown",
      "metadata": {
        "id": "view-in-github",
        "colab_type": "text"
      },
      "source": [
        "<a href=\"https://colab.research.google.com/github/manish-vuppala/Lets-UPGRADE-python/blob/master/Altitute%20Assignment.ipynb\" target=\"_parent\"><img src=\"https://colab.research.google.com/assets/colab-badge.svg\" alt=\"Open In Colab\"/></a>"
      ]
    },
    {
      "cell_type": "code",
      "metadata": {
        "id": "m8MB7SLdHJof",
        "colab_type": "code",
        "colab": {
          "base_uri": "https://localhost:8080/",
          "height": 52
        },
        "outputId": "2095ebc1-c8a2-44da-80a7-474861d65db2"
      },
      "source": [
        "height=input(\"enter the height of altitude: \")\n",
        "\n",
        "altitute=int(height)\n",
        "\n",
        "if altitute==1000:\n",
        "    print(\"safe to land plane\")\n",
        "elif altitute<1000:\n",
        "    print(\"land the plane\")\n",
        "elif altitute<5000:\n",
        "    print(\"Come down to 1000 ft\")\n",
        "elif altitute>5000:\n",
        "    print(\"go around and try later to land the plane\")"
      ],
      "execution_count": 1,
      "outputs": [
        {
          "output_type": "stream",
          "text": [
            "enter the height of altitude: 5001\n",
            "go around and try later to land the plane\n"
          ],
          "name": "stdout"
        }
      ]
    }
  ]
}