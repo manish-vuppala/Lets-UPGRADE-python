{
  "nbformat": 4,
  "nbformat_minor": 0,
  "metadata": {
    "colab": {
      "name": "Untitled1.ipynb",
      "provenance": [],
      "authorship_tag": "ABX9TyP+O9IGgImsEJcUrbW7CoKl",
      "include_colab_link": true
    },
    "kernelspec": {
      "name": "python3",
      "display_name": "Python 3"
    }
  },
  "cells": [
    {
      "cell_type": "markdown",
      "metadata": {
        "id": "view-in-github",
        "colab_type": "text"
      },
      "source": [
        "<a href=\"https://colab.research.google.com/github/manish-vuppala/Lets-UPGRADE-python/blob/master/Altitude%20Assignment.ipynb\" target=\"_parent\"><img src=\"https://colab.research.google.com/assets/colab-badge.svg\" alt=\"Open In Colab\"/></a>"
      ]
    },
    {
      "cell_type": "code",
      "metadata": {
        "id": "m8MB7SLdHJof",
        "colab_type": "code",
        "colab": {
          "base_uri": "https://localhost:8080/",
          "height": 52
        },
        "outputId": "4e808c5a-003b-4d5c-b739-f429ad4876e6"
      },
      "source": [
        "height=input(\"enter the height of altitude: \")\n",
        "\n",
        "altitude=int(height)\n",
        "\n",
        "if altitude==1000:\n",
        "    print(\"safe to land plane\")\n",
        "elif altitude<1000:\n",
        "    print(\"land the plane\")\n",
        "elif altitude<5000:\n",
        "    print(\"Come down to 1000 ft\")\n",
        "elif altitude>5000:\n",
        "    print(\"go around and try later to land the plane\")"
      ],
      "execution_count": 2,
      "outputs": [
        {
          "output_type": "stream",
          "text": [
            "enter the height of altitude: 50000\n",
            "go around and try later to land the plane\n"
          ],
          "name": "stdout"
        }
      ]
    }
  ]
}